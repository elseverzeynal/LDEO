{
 "cells": [
  {
   "cell_type": "code",
   "execution_count": 17,
   "id": "23ea8b42-fd76-4704-a8db-a536a1fe7c06",
   "metadata": {},
   "outputs": [
    {
     "data": {
      "text/html": [
       "\n",
       "            <style>\n",
       "                .geemap-dark {\n",
       "                    --jp-widgets-color: white;\n",
       "                    --jp-widgets-label-color: white;\n",
       "                    --jp-ui-font-color1: white;\n",
       "                    --jp-layout-color2: #454545;\n",
       "                    background-color: #383838;\n",
       "                }\n",
       "\n",
       "                .geemap-dark .jupyter-button {\n",
       "                    --jp-layout-color3: #383838;\n",
       "                }\n",
       "\n",
       "                .geemap-colab {\n",
       "                    background-color: var(--colab-primary-surface-color, white);\n",
       "                }\n",
       "\n",
       "                .geemap-colab .jupyter-button {\n",
       "                    --jp-layout-color3: var(--colab-primary-surface-color, white);\n",
       "                }\n",
       "            </style>\n",
       "            "
      ],
      "text/plain": [
       "<IPython.core.display.HTML object>"
      ]
     },
     "metadata": {},
     "output_type": "display_data"
    }
   ],
   "source": [
    "import ee"
   ]
  },
  {
   "cell_type": "code",
   "execution_count": 18,
   "id": "0cf28300",
   "metadata": {},
   "outputs": [
    {
     "data": {
      "text/html": [
       "\n",
       "            <style>\n",
       "                .geemap-dark {\n",
       "                    --jp-widgets-color: white;\n",
       "                    --jp-widgets-label-color: white;\n",
       "                    --jp-ui-font-color1: white;\n",
       "                    --jp-layout-color2: #454545;\n",
       "                    background-color: #383838;\n",
       "                }\n",
       "\n",
       "                .geemap-dark .jupyter-button {\n",
       "                    --jp-layout-color3: #383838;\n",
       "                }\n",
       "\n",
       "                .geemap-colab {\n",
       "                    background-color: var(--colab-primary-surface-color, white);\n",
       "                }\n",
       "\n",
       "                .geemap-colab .jupyter-button {\n",
       "                    --jp-layout-color3: var(--colab-primary-surface-color, white);\n",
       "                }\n",
       "            </style>\n",
       "            "
      ],
      "text/plain": [
       "<IPython.core.display.HTML object>"
      ]
     },
     "metadata": {},
     "output_type": "display_data"
    },
    {
     "data": {
      "text/plain": [
       "True"
      ]
     },
     "execution_count": 18,
     "metadata": {},
     "output_type": "execute_result"
    }
   ],
   "source": [
    "ee.Authenticate()"
   ]
  },
  {
   "cell_type": "code",
   "execution_count": 19,
   "id": "7613635a",
   "metadata": {},
   "outputs": [
    {
     "data": {
      "text/html": [
       "\n",
       "            <style>\n",
       "                .geemap-dark {\n",
       "                    --jp-widgets-color: white;\n",
       "                    --jp-widgets-label-color: white;\n",
       "                    --jp-ui-font-color1: white;\n",
       "                    --jp-layout-color2: #454545;\n",
       "                    background-color: #383838;\n",
       "                }\n",
       "\n",
       "                .geemap-dark .jupyter-button {\n",
       "                    --jp-layout-color3: #383838;\n",
       "                }\n",
       "\n",
       "                .geemap-colab {\n",
       "                    background-color: var(--colab-primary-surface-color, white);\n",
       "                }\n",
       "\n",
       "                .geemap-colab .jupyter-button {\n",
       "                    --jp-layout-color3: var(--colab-primary-surface-color, white);\n",
       "                }\n",
       "            </style>\n",
       "            "
      ],
      "text/plain": [
       "<IPython.core.display.HTML object>"
      ]
     },
     "metadata": {},
     "output_type": "display_data"
    }
   ],
   "source": [
    "ee.Initialize()"
   ]
  },
  {
   "cell_type": "code",
   "execution_count": 20,
   "id": "f23c024b",
   "metadata": {},
   "outputs": [
    {
     "data": {
      "text/html": [
       "\n",
       "            <style>\n",
       "                .geemap-dark {\n",
       "                    --jp-widgets-color: white;\n",
       "                    --jp-widgets-label-color: white;\n",
       "                    --jp-ui-font-color1: white;\n",
       "                    --jp-layout-color2: #454545;\n",
       "                    background-color: #383838;\n",
       "                }\n",
       "\n",
       "                .geemap-dark .jupyter-button {\n",
       "                    --jp-layout-color3: #383838;\n",
       "                }\n",
       "\n",
       "                .geemap-colab {\n",
       "                    background-color: var(--colab-primary-surface-color, white);\n",
       "                }\n",
       "\n",
       "                .geemap-colab .jupyter-button {\n",
       "                    --jp-layout-color3: var(--colab-primary-surface-color, white);\n",
       "                }\n",
       "            </style>\n",
       "            "
      ],
      "text/plain": [
       "<IPython.core.display.HTML object>"
      ]
     },
     "metadata": {},
     "output_type": "display_data"
    }
   ],
   "source": [
    "import ee\n",
    "import geemap\n",
    "import os\n",
    "import numpy as np\n",
    "import pandas as pd\n",
    "#import matplotlib.pyplot as plt\n",
    "import gc\n",
    "from tqdm import tqdm\n",
    "\n",
    "#Map = geemap.Map()\n",
    "city_ls = [\"Nairobi\"]\n",
    "#city_ls = [\"Abidjan\",\"Abuja\",\"Accra\",\"Bamako\",\"Conakry\",\"Dakar\",\"Lagos\",\"Libreville\",\"Lome\",\"NDjamena\",\"Ouagadougou\"]\n",
    "\n",
    "p = \"/home/ez2422/\""
   ]
  },
  {
   "cell_type": "markdown",
   "id": "d5b32bae-0827-45a5-a40b-7e0714013822",
   "metadata": {},
   "source": [
    "**Nairobi (-1.2913, 36.8227): Kenyatta University-City Centre Campus, Nairobi, Kenya**"
   ]
  },
  {
   "cell_type": "code",
   "execution_count": 21,
   "id": "a2a103de",
   "metadata": {},
   "outputs": [
    {
     "data": {
      "text/html": [
       "\n",
       "            <style>\n",
       "                .geemap-dark {\n",
       "                    --jp-widgets-color: white;\n",
       "                    --jp-widgets-label-color: white;\n",
       "                    --jp-ui-font-color1: white;\n",
       "                    --jp-layout-color2: #454545;\n",
       "                    background-color: #383838;\n",
       "                }\n",
       "\n",
       "                .geemap-dark .jupyter-button {\n",
       "                    --jp-layout-color3: #383838;\n",
       "                }\n",
       "\n",
       "                .geemap-colab {\n",
       "                    background-color: var(--colab-primary-surface-color, white);\n",
       "                }\n",
       "\n",
       "                .geemap-colab .jupyter-button {\n",
       "                    --jp-layout-color3: var(--colab-primary-surface-color, white);\n",
       "                }\n",
       "            </style>\n",
       "            "
      ],
      "text/plain": [
       "<IPython.core.display.HTML object>"
      ]
     },
     "metadata": {},
     "output_type": "display_data"
    }
   ],
   "source": [
    "'''\n",
    "lat_d = {\n",
    "    \"Abidjan\":5.3350,\n",
    "    \"Abuja\":9.0405,\n",
    "    \"Accra\":5.5795,\n",
    "    \"Bamako\":12.6298,\n",
    "    \"Conakry\":9.5950,\n",
    "    \"Dakar\":14.7452,\n",
    "    \"Lagos\":6.4405,\n",
    "    \"Libreville\":0.4162,\n",
    "    \"Lome\":6.1855,\n",
    "    \"NDjamena\":12.1020,\n",
    "    \"Ouagadougou\":12.3049\n",
    "    \"Nairobi\":-1.2913\n",
    "}\n",
    "lon_d = {\n",
    "    \"Abidjan\":-3.9760,\n",
    "    \"Abuja\":7.4765,\n",
    "    \"Accra\":-0.1706,\n",
    "    \"Bamako\":-8.0189,\n",
    "    \"Conakry\":-13.6366,\n",
    "    \"Dakar\":-17.5262,\n",
    "    \"Lagos\":3.4067,\n",
    "    \"Libreville\":9.4673,\n",
    "    \"Lome\":1.2142,\n",
    "    \"NDjamena\":15.0479,\n",
    "    \"Ouagadougou\":-1.4972\n",
    "    \"Nairobi\":36.8227\n",
    "}\n",
    "'''\n",
    "lat_d = {\n",
    "    \"Nairobi\":-1.2913\n",
    "}\n",
    "lon_d = {\n",
    "    \"Nairobi\":36.8227\n",
    "}\n",
    "\n",
    "product_d = {\n",
    "    \"CO\":\"COPERNICUS/S5P/NRTI/L3_CO\",\n",
    "    \"HCHO\":\"COPERNICUS/S5P/NRTI/L3_HCHO\",\n",
    "    \"O3\":\"COPERNICUS/S5P/NRTI/L3_O3\",\n",
    "    \"SO2\":\"COPERNICUS/S5P/NRTI/L3_SO2\",\n",
    "    \"NO2\":\"COPERNICUS/S5P/NRTI/L3_NO2\",\n",
    "    \"UVAI\":\"COPERNICUS/S5P/NRTI/L3_AER_AI\",\n",
    "    \"UVLH\":\"COPERNICUS/S5P/NRTI/L3_AER_LH\"\n",
    "}\n",
    "\n",
    "var_d = {\n",
    "    \"CO\":[\"CO_column_number_density\"],\n",
    "    \"HCHO\":[\"tropospheric_HCHO_column_number_density\"],\n",
    "    \"O3\":[\"O3_column_number_density\"],\n",
    "    \"SO2\":[\"SO2_column_number_density\"],\n",
    "    \"NO2\":[\"tropospheric_NO2_column_number_density\"],\n",
    "    \"UVAI\":[\"absorbing_aerosol_index\"],\n",
    "    \"UVLH\":[\"aerosol_height\"]\n",
    "}"
   ]
  },
  {
   "cell_type": "markdown",
   "id": "0d9dd224",
   "metadata": {},
   "source": [
    "## get remote sensing data"
   ]
  },
  {
   "cell_type": "code",
   "execution_count": 23,
   "id": "064227e1",
   "metadata": {
    "scrolled": true
   },
   "outputs": [
    {
     "data": {
      "text/html": [
       "\n",
       "            <style>\n",
       "                .geemap-dark {\n",
       "                    --jp-widgets-color: white;\n",
       "                    --jp-widgets-label-color: white;\n",
       "                    --jp-ui-font-color1: white;\n",
       "                    --jp-layout-color2: #454545;\n",
       "                    background-color: #383838;\n",
       "                }\n",
       "\n",
       "                .geemap-dark .jupyter-button {\n",
       "                    --jp-layout-color3: #383838;\n",
       "                }\n",
       "\n",
       "                .geemap-colab {\n",
       "                    background-color: var(--colab-primary-surface-color, white);\n",
       "                }\n",
       "\n",
       "                .geemap-colab .jupyter-button {\n",
       "                    --jp-layout-color3: var(--colab-primary-surface-color, white);\n",
       "                }\n",
       "            </style>\n",
       "            "
      ],
      "text/plain": [
       "<IPython.core.display.HTML object>"
      ]
     },
     "metadata": {},
     "output_type": "display_data"
    }
   ],
   "source": [
    "# get a time series: \n",
    "# https://developers.google.com/earth-engine/tutorials/community/intro-to-python-api-guiattard\n",
    "def ee_array_to_df(arr, list_of_bands):\n",
    "    \"\"\"Transforms client-side ee.Image.getRegion array to pandas.DataFrame.\"\"\"\n",
    "    df = pd.DataFrame(arr)\n",
    "\n",
    "    # Rearrange the header.\n",
    "    headers = df.iloc[0]\n",
    "    df = pd.DataFrame(df.values[1:], columns=headers)\n",
    "\n",
    "    # Remove rows without data inside.\n",
    "    df = df[['longitude', 'latitude', 'time', *list_of_bands]].dropna()\n",
    "\n",
    "    # Convert the data to numeric values.\n",
    "    for band in list_of_bands:\n",
    "        df[band] = pd.to_numeric(df[band], errors='coerce')\n",
    "\n",
    "    # Convert the time field into a datetime.\n",
    "    df['datetime'] = pd.to_datetime(df['time'], unit='ms')\n",
    "\n",
    "    # Keep the columns of interest.\n",
    "    #df = df[['time','datetime','longitude','latitude',  *list_of_bands]]\n",
    "    df = df[['time','datetime',  *list_of_bands]]\n",
    "\n",
    "    return df\n",
    "\n",
    "def get_df(s, loc, point_buffer, product_d, var_d): \n",
    "    collection = ee.ImageCollection(product_d[s]) \\\n",
    "        .filterBounds(loc) \\\n",
    "        .select(var_d[s]) \\\n",
    "        .filterDate('2021-01-01', '2024-11-30')\n",
    "\n",
    "    lst = collection.getRegion(loc,point_buffer).getInfo()\n",
    "\n",
    "    df = ee_array_to_df(lst,var_d[s])\n",
    "    df = df.set_index(\"datetime\")[var_d[s]].resample(\"D\").mean()\n",
    "    df = df.reset_index()\n",
    "    df[\"time\"] = df[\"datetime\"].dt.date\n",
    "    return df[[\"time\"]+var_d[s]]\n",
    "\n",
    "def merge_df(s_ls, loc, point_buffer, product_d, var_d):\n",
    "    for s in s_ls:\n",
    "        if s == s_ls[0]:\n",
    "            df = get_df(s, loc=loc, point_buffer=point_buffer, product_d=product_d, var_d=var_d)\n",
    "        else:\n",
    "            df = pd.merge(df, get_df(s, loc=loc, point_buffer=point_buffer, product_d=product_d, var_d=var_d), \n",
    "                          on=\"time\", how=\"outer\")\n",
    "    return df"
   ]
  },
  {
   "cell_type": "code",
   "execution_count": 24,
   "id": "097e3979",
   "metadata": {
    "scrolled": true
   },
   "outputs": [
    {
     "data": {
      "text/html": [
       "\n",
       "            <style>\n",
       "                .geemap-dark {\n",
       "                    --jp-widgets-color: white;\n",
       "                    --jp-widgets-label-color: white;\n",
       "                    --jp-ui-font-color1: white;\n",
       "                    --jp-layout-color2: #454545;\n",
       "                    background-color: #383838;\n",
       "                }\n",
       "\n",
       "                .geemap-dark .jupyter-button {\n",
       "                    --jp-layout-color3: #383838;\n",
       "                }\n",
       "\n",
       "                .geemap-colab {\n",
       "                    background-color: var(--colab-primary-surface-color, white);\n",
       "                }\n",
       "\n",
       "                .geemap-colab .jupyter-button {\n",
       "                    --jp-layout-color3: var(--colab-primary-surface-color, white);\n",
       "                }\n",
       "            </style>\n",
       "            "
      ],
      "text/plain": [
       "<IPython.core.display.HTML object>"
      ]
     },
     "metadata": {},
     "output_type": "display_data"
    },
    {
     "name": "stderr",
     "output_type": "stream",
     "text": [
      "100%|██████████| 1/1 [00:06<00:00,  6.06s/it]\n"
     ]
    }
   ],
   "source": [
    "import pandas as pd\n",
    "from tqdm import tqdm\n",
    "import ee\n",
    "\n",
    "s_ls = [\"NO2\"]  # Only NO2\n",
    "start_date = \"2021-01-01\"\n",
    "\n",
    "for city in tqdm(city_ls):\n",
    "    loc = ee.Geometry.Point(lon_d[city], lat_d[city])\n",
    "    point_buffer = 1500.0\n",
    "    df = merge_df(s_ls, loc, point_buffer, product_d, var_d)\n",
    "\n",
    "    # Convert time to datetime and filter date range\n",
    "    df[\"time\"] = pd.to_datetime(df[\"time\"])\n",
    "    df = df[df[\"time\"] >= start_date]  # From 2021-01-01 to present\n",
    "    df = df.sort_values(\"time\").reset_index(drop=True)\n",
    "\n",
    "    df.to_csv(p + city + \".csv\", index=False)"
   ]
  },
  {
   "cell_type": "code",
   "execution_count": 25,
   "id": "a06c8dca",
   "metadata": {
    "scrolled": true
   },
   "outputs": [
    {
     "data": {
      "text/html": [
       "\n",
       "            <style>\n",
       "                .geemap-dark {\n",
       "                    --jp-widgets-color: white;\n",
       "                    --jp-widgets-label-color: white;\n",
       "                    --jp-ui-font-color1: white;\n",
       "                    --jp-layout-color2: #454545;\n",
       "                    background-color: #383838;\n",
       "                }\n",
       "\n",
       "                .geemap-dark .jupyter-button {\n",
       "                    --jp-layout-color3: #383838;\n",
       "                }\n",
       "\n",
       "                .geemap-colab {\n",
       "                    background-color: var(--colab-primary-surface-color, white);\n",
       "                }\n",
       "\n",
       "                .geemap-colab .jupyter-button {\n",
       "                    --jp-layout-color3: var(--colab-primary-surface-color, white);\n",
       "                }\n",
       "            </style>\n",
       "            "
      ],
      "text/plain": [
       "<IPython.core.display.HTML object>"
      ]
     },
     "metadata": {},
     "output_type": "display_data"
    },
    {
     "name": "stderr",
     "output_type": "stream",
     "text": [
      "  0%|          | 0/1 [00:00<?, ?it/s]"
     ]
    },
    {
     "name": "stdout",
     "output_type": "stream",
     "text": [
      "Nairobi\n"
     ]
    },
    {
     "data": {
      "text/html": [
       "<div>\n",
       "<style scoped>\n",
       "    .dataframe tbody tr th:only-of-type {\n",
       "        vertical-align: middle;\n",
       "    }\n",
       "\n",
       "    .dataframe tbody tr th {\n",
       "        vertical-align: top;\n",
       "    }\n",
       "\n",
       "    .dataframe thead th {\n",
       "        text-align: right;\n",
       "    }\n",
       "</style>\n",
       "<table border=\"1\" class=\"dataframe\">\n",
       "  <thead>\n",
       "    <tr style=\"text-align: right;\">\n",
       "      <th></th>\n",
       "      <th>tropospheric_NO2_column_number_density</th>\n",
       "    </tr>\n",
       "  </thead>\n",
       "  <tbody>\n",
       "    <tr>\n",
       "      <th>count</th>\n",
       "      <td>573.000000</td>\n",
       "    </tr>\n",
       "    <tr>\n",
       "      <th>mean</th>\n",
       "      <td>0.000044</td>\n",
       "    </tr>\n",
       "    <tr>\n",
       "      <th>std</th>\n",
       "      <td>0.000020</td>\n",
       "    </tr>\n",
       "    <tr>\n",
       "      <th>min</th>\n",
       "      <td>-0.000006</td>\n",
       "    </tr>\n",
       "    <tr>\n",
       "      <th>25%</th>\n",
       "      <td>0.000030</td>\n",
       "    </tr>\n",
       "    <tr>\n",
       "      <th>50%</th>\n",
       "      <td>0.000041</td>\n",
       "    </tr>\n",
       "    <tr>\n",
       "      <th>75%</th>\n",
       "      <td>0.000053</td>\n",
       "    </tr>\n",
       "    <tr>\n",
       "      <th>max</th>\n",
       "      <td>0.000125</td>\n",
       "    </tr>\n",
       "  </tbody>\n",
       "</table>\n",
       "</div>"
      ],
      "text/plain": [
       "       tropospheric_NO2_column_number_density\n",
       "count                              573.000000\n",
       "mean                                 0.000044\n",
       "std                                  0.000020\n",
       "min                                 -0.000006\n",
       "25%                                  0.000030\n",
       "50%                                  0.000041\n",
       "75%                                  0.000053\n",
       "max                                  0.000125"
      ]
     },
     "metadata": {},
     "output_type": "display_data"
    },
    {
     "name": "stderr",
     "output_type": "stream",
     "text": [
      "100%|██████████| 1/1 [00:00<00:00, 104.12it/s]"
     ]
    },
    {
     "name": "stdout",
     "output_type": "stream",
     "text": [
      "\n",
      "\n"
     ]
    },
    {
     "name": "stderr",
     "output_type": "stream",
     "text": [
      "\n"
     ]
    }
   ],
   "source": [
    "for city in tqdm(city_ls):\n",
    "    print(city)\n",
    "    df = pd.read_csv(p+city+\".csv\")\n",
    "    display(df.describe())\n",
    "    print(\"\\n\")"
   ]
  },
  {
   "cell_type": "code",
   "execution_count": 26,
   "id": "a43bf0ed",
   "metadata": {},
   "outputs": [
    {
     "data": {
      "text/html": [
       "\n",
       "            <style>\n",
       "                .geemap-dark {\n",
       "                    --jp-widgets-color: white;\n",
       "                    --jp-widgets-label-color: white;\n",
       "                    --jp-ui-font-color1: white;\n",
       "                    --jp-layout-color2: #454545;\n",
       "                    background-color: #383838;\n",
       "                }\n",
       "\n",
       "                .geemap-dark .jupyter-button {\n",
       "                    --jp-layout-color3: #383838;\n",
       "                }\n",
       "\n",
       "                .geemap-colab {\n",
       "                    background-color: var(--colab-primary-surface-color, white);\n",
       "                }\n",
       "\n",
       "                .geemap-colab .jupyter-button {\n",
       "                    --jp-layout-color3: var(--colab-primary-surface-color, white);\n",
       "                }\n",
       "            </style>\n",
       "            "
      ],
      "text/plain": [
       "<IPython.core.display.HTML object>"
      ]
     },
     "metadata": {},
     "output_type": "display_data"
    }
   ],
   "source": [
    "# Pickle file for further use\n",
    "df.to_pickle(\"my_df2.pkl\")"
   ]
  },
  {
   "cell_type": "code",
   "execution_count": null,
   "id": "6a2e5163-11b8-4e79-9e1f-dba60c33c1cf",
   "metadata": {},
   "outputs": [],
   "source": []
  },
  {
   "cell_type": "code",
   "execution_count": null,
   "id": "80fff973-e4c8-4d92-acd8-6c47d0b04b8a",
   "metadata": {},
   "outputs": [],
   "source": []
  }
 ],
 "metadata": {
  "kernelspec": {
   "display_name": "pangeo23",
   "language": "python",
   "name": "pangeo23"
  },
  "language_info": {
   "codemirror_mode": {
    "name": "ipython",
    "version": 3
   },
   "file_extension": ".py",
   "mimetype": "text/x-python",
   "name": "python",
   "nbconvert_exporter": "python",
   "pygments_lexer": "ipython3",
   "version": "3.11.6"
  }
 },
 "nbformat": 4,
 "nbformat_minor": 5
}
